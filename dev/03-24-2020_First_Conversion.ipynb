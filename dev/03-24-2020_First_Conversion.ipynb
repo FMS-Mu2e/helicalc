{
 "cells": [
  {
   "cell_type": "markdown",
   "metadata": {},
   "source": [
    "# Background"
   ]
  },
  {
   "cell_type": "markdown",
   "metadata": {},
   "source": [
    "- Started 01-09-2020\n",
    "    - picked up again 03-24-2020 (COVID-19)\n",
    "    - and again 04-09-2020 (still COVID-19)\n",
    "- Direct translation from Matlab Helicalc to Python Helicalc\n",
    "- Also trying to make conversion pythonic/sensible\n",
    "- Transfered to GPU machine / picked up again 07-20-2020 (still COVID-19)"
   ]
  },
  {
   "cell_type": "markdown",
   "metadata": {},
   "source": [
    "# Imports"
   ]
  },
  {
   "cell_type": "code",
   "execution_count": 5,
   "metadata": {},
   "outputs": [],
   "source": [
    "%load_ext memory_profiler\n",
    "\n",
    "import numpy as np\n",
    "import pandas as pd\n",
    "import math\n",
    "import scipy.integrate\n",
    "from scipy.integrate import simps\n",
    "from scipy.spatial.transform import Rotation\n",
    "import pickle as pkl\n",
    "import time\n",
    "\n",
    "from scipy.constants import mu_0\n",
    "\n",
    "from matplotlib import pyplot as plt\n",
    "%matplotlib inline\n",
    "\n",
    "import torch as tc\n",
    "\n",
    "### OLD\n",
    "#import pycuda.autoinit\n",
    "#import pycuda.driver as cuda\n",
    "#import pycuda.gpuarray as gpuarray\n",
    "\n",
    "#import skcuda.integrate"
   ]
  },
  {
   "cell_type": "code",
   "execution_count": 6,
   "metadata": {},
   "outputs": [],
   "source": [
    "import sys\n",
    "sys.path.append(\"/home/ckampa/coding/particle_EM_tracks/emtracks/\")\n",
    "from plotting import config_plots\n",
    "config_plots()"
   ]
  },
  {
   "cell_type": "code",
   "execution_count": 7,
   "metadata": {},
   "outputs": [],
   "source": [
    "params_dir = \"params/\""
   ]
  },
  {
   "cell_type": "code",
   "execution_count": 8,
   "metadata": {},
   "outputs": [
    {
     "data": {
      "text/plain": [
       "1.25663706212e-06"
      ]
     },
     "execution_count": 8,
     "metadata": {},
     "output_type": "execute_result"
    }
   ],
   "source": [
    "mu_0"
   ]
  },
  {
   "cell_type": "code",
   "execution_count": 9,
   "metadata": {},
   "outputs": [
    {
     "data": {
      "text/plain": [
       "1.2566370614359173e-06"
      ]
     },
     "execution_count": 9,
     "metadata": {},
     "output_type": "execute_result"
    }
   ],
   "source": [
    "4e-7*np.pi"
   ]
  },
  {
   "cell_type": "code",
   "execution_count": 10,
   "metadata": {},
   "outputs": [],
   "source": [
    "#skcuda.integrate.init()"
   ]
  },
  {
   "cell_type": "code",
   "execution_count": 12,
   "metadata": {},
   "outputs": [
    {
     "name": "stdout",
     "output_type": "stream",
     "text": [
      "peak memory: 265.90 MiB, increment: 0.00 MiB\n"
     ]
    }
   ],
   "source": [
    "%memit np.random.randn(1000)"
   ]
  },
  {
   "cell_type": "markdown",
   "metadata": {},
   "source": [
    "# Read Coils"
   ]
  },
  {
   "cell_type": "code",
   "execution_count": null,
   "metadata": {},
   "outputs": [],
   "source": [
    "cols_coil = [\"Ri\", \"Ro\", \"L\", \"x\", \"y\", \"z\" , \"rot0\", \"rot1\", \"rot2\",\n",
    "             \"I_tot\", \"N_layers\", \"N_turns\", \"N_turns_tot\", \"I_turn\", \"helicity\"]"
   ]
  },
  {
   "cell_type": "code",
   "execution_count": null,
   "metadata": {},
   "outputs": [],
   "source": [
    "cols_coil_rescale = [\"Ri\", \"Ro\", \"L\", \"x\", \"y\", \"z\"]"
   ]
  },
  {
   "cell_type": "code",
   "execution_count": null,
   "metadata": {},
   "outputs": [],
   "source": [
    "Coils = pd.read_csv(params_dir+\"r250mm_p10cm_coil.txt\", names=cols_coil, delimiter=\"\\t\")"
   ]
  },
  {
   "cell_type": "code",
   "execution_count": null,
   "metadata": {},
   "outputs": [],
   "source": [
    "Coils"
   ]
  },
  {
   "cell_type": "code",
   "execution_count": null,
   "metadata": {},
   "outputs": [],
   "source": [
    "for col in cols_coil_rescale:\n",
    "    Coils[col] = Coils[col] / 1e3"
   ]
  },
  {
   "cell_type": "code",
   "execution_count": null,
   "metadata": {},
   "outputs": [],
   "source": [
    "Coils"
   ]
  },
  {
   "cell_type": "markdown",
   "metadata": {},
   "source": [
    "## Function"
   ]
  },
  {
   "cell_type": "code",
   "execution_count": null,
   "metadata": {},
   "outputs": [],
   "source": [
    "def read_coils(filename):\n",
    "    \"\"\"Read in solenoid coil file.\n",
    "    \n",
    "    Args:\n",
    "        filename (str): Coil file.\n",
    "    \n",
    "    Returns:.\n",
    "        coils (pandas.DataFrame): Each row is a new Coil, columns are parameters of interest.\n",
    "    \"\"\"\n",
    "    # expected columns\n",
    "    cols_coil = [\"Ri\", \"Ro\", \"L\", \"x\", \"y\", \"z\" , \"rot0\", \"rot1\", \"rot2\",\n",
    "             \"I_tot\", \"N_layers\", \"N_turns\", \"N_turns_tot\", \"I_turn\", \"helicity\"]\n",
    "    # columns to rescale\n",
    "    cols_coil_rescale = [\"Ri\", \"Ro\", \"L\", \"x\", \"y\", \"z\"]\n",
    "    # read in file to DataFrame\n",
    "    coils = pd.read_csv(filename, names=cols_coil, delimiter=\"\\t\")\n",
    "    # rescale columns\n",
    "    for col in cols_coil_rescale:\n",
    "        coils[col] = coils[col] / 1e3\n",
    "        \n",
    "    return coils"
   ]
  },
  {
   "cell_type": "markdown",
   "metadata": {},
   "source": [
    "# Read Conductors"
   ]
  },
  {
   "cell_type": "code",
   "execution_count": null,
   "metadata": {},
   "outputs": [],
   "source": [
    "cols_cond = [\"h_cable\", \"w_cable\", \"h_sc\", \"w_sc\", \"t_gi\", \"t_ci\", \"t_il\", \"phi0\", \"phi1\"]"
   ]
  },
  {
   "cell_type": "code",
   "execution_count": null,
   "metadata": {},
   "outputs": [],
   "source": [
    "cols_cond_rescale = [\"h_cable\", \"w_cable\", \"h_sc\", \"w_sc\", \"t_gi\", \"t_ci\", \"t_il\"]"
   ]
  },
  {
   "cell_type": "code",
   "execution_count": null,
   "metadata": {},
   "outputs": [],
   "source": [
    "Conductor = pd.read_csv(params_dir+r\"r250mm_p10cm_conductor.txt\", names=cols_cond, delimiter=\"\\t\")"
   ]
  },
  {
   "cell_type": "code",
   "execution_count": null,
   "metadata": {},
   "outputs": [],
   "source": [
    "Conductor"
   ]
  },
  {
   "cell_type": "code",
   "execution_count": null,
   "metadata": {},
   "outputs": [],
   "source": [
    "for col in cols_cond_rescale:\n",
    "    Conductor[col] = Conductor[col] / 1e3"
   ]
  },
  {
   "cell_type": "code",
   "execution_count": null,
   "metadata": {},
   "outputs": [],
   "source": [
    "Conductor"
   ]
  },
  {
   "cell_type": "markdown",
   "metadata": {},
   "source": [
    "## Function"
   ]
  },
  {
   "cell_type": "code",
   "execution_count": null,
   "metadata": {},
   "outputs": [],
   "source": [
    "def read_conductors(filename):\n",
    "    \"\"\"Read in solenoid conductor file.\n",
    "    \n",
    "    Args:\n",
    "        filename (str): Conductor file.\n",
    "    \n",
    "    Returns:.\n",
    "        conductors (pandas.DataFrame): Each row is for a new Coil, columns are parameters of interest.\n",
    "    \"\"\"\n",
    "    # expected columns\n",
    "    cols_cond = [\"h_cable\", \"w_cable\", \"h_sc\", \"w_sc\", \"t_gi\", \"t_ci\", \"t_il\", \"phi0\", \"phi1\"]\n",
    "    # columns to rescale\n",
    "    cols_cond_rescale = [\"h_cable\", \"w_cable\", \"h_sc\", \"w_sc\", \"t_gi\", \"t_ci\", \"t_il\"]\n",
    "    # read in file to DataFrame\n",
    "    conductors = pd.read_csv(params_dir+geom_name+\"_conductor.txt\", names=cols_cond, delimiter=\"\\t\")\n",
    "    # rescale columns\n",
    "    for col in cols_cond_rescale:\n",
    "        conductors[col] = conductors[col] / 1e3\n",
    "    \n",
    "    return conductors"
   ]
  },
  {
   "cell_type": "markdown",
   "metadata": {},
   "source": [
    "# Testing Loading Functions"
   ]
  },
  {
   "cell_type": "code",
   "execution_count": null,
   "metadata": {},
   "outputs": [],
   "source": [
    "params_dir = \"params/\"\n",
    "geom_name = \"r250mm_p10cm\""
   ]
  },
  {
   "cell_type": "code",
   "execution_count": null,
   "metadata": {},
   "outputs": [],
   "source": [
    "coils = read_coils(filename=params_dir+geom_name+\"_coil.txt\")"
   ]
  },
  {
   "cell_type": "code",
   "execution_count": null,
   "metadata": {},
   "outputs": [],
   "source": [
    "coils"
   ]
  },
  {
   "cell_type": "code",
   "execution_count": null,
   "metadata": {},
   "outputs": [],
   "source": [
    "conductors = read_conductors(filename=params_dir+geom_name+\"_conductor.txt\")"
   ]
  },
  {
   "cell_type": "code",
   "execution_count": null,
   "metadata": {},
   "outputs": [],
   "source": [
    "conductors"
   ]
  },
  {
   "cell_type": "markdown",
   "metadata": {},
   "source": [
    "# Main Function / Driving Script"
   ]
  },
  {
   "cell_type": "code",
   "execution_count": null,
   "metadata": {},
   "outputs": [],
   "source": [
    "mu_0"
   ]
  },
  {
   "cell_type": "code",
   "execution_count": null,
   "metadata": {},
   "outputs": [],
   "source": [
    "# should i return a df??\n",
    "# i think no for not overloading memory\n",
    "# and will want to write to file every calculation anyway\n",
    "\n",
    "# do return bus later\n",
    "\n",
    "def helicalc_main(outfile, coilfile, conductorfile, xs, ys, zs):\n",
    "    \"\"\"Run 'helicalc' calculation. Calculates magnetic field from system of solenoids on a 3d grid of positions.\n",
    "    \n",
    "    Args:\n",
    "        outfile (str): Output file.\n",
    "        coilfile (str): Coil file.\n",
    "        conductorfile (str): Conductor file.\n",
    "        xs (numpy.array): Grid x locations.\n",
    "        ys (numpy.array): Grid y locations.\n",
    "        zs (numpy.array): Grid z locations.\n",
    "    \"\"\"\n",
    "    # read parameters\n",
    "    coils = read_coils(filename=coilfile)\n",
    "    conductors = read_conductors(filename=conductorfile)\n",
    "    geom = pd.concat([coils, conductors], axis=1)\n",
    "    # EXTRA GEOM CALCULATIONS\n",
    "    # MAYBE ADD IN A DIFFERENT FUNCTION?\n",
    "    # yaw\n",
    "    geom.loc[:, 'Yaw'] = geom.rot1\n",
    "    geom.loc[:, 'Yaw_rad'] = geom.Yaw * np.pi / 180.\n",
    "    # pitch\n",
    "    geom.loc[:,'h'] = geom.L/ geom.N_turns\n",
    "    \n",
    "    # integration limits for rectangular conductor\n",
    "    # of dimensions (zeta1-zeta0) x (rho1-rho0)\n",
    "    # zeta\n",
    "    geom.loc[:,'zeta0'] = (geom.w_cable - geom.w_sc)/2. + geom.t_ci\n",
    "    geom.loc[:,'zeta1'] = geom.zeta0 + geom.w_sc\n",
    "    # rho limits for first layer\n",
    "    # and higher layers increased by offsets\n",
    "    geom.loc[:,'rho0_a'] = geom.Ri + (geom.h_cable - geom.h_sc)/2 + geom.t_gi + geom.t_ci\n",
    "    geom.loc[:,'rho1_a'] = geom.rho0_a + geom.h_sc\n",
    "    \n",
    "    # current density\n",
    "    geom.loc[:,'j'] = geom.I_turn / ((geom.rho1_a - geom.rho0_a)*(geom.zeta1 - geom.zeta0))\n",
    "    \n",
    "    # mu factor (constant) in Biot-Savart integration\n",
    "    geom.loc[:,'mu'] = mu_0 * geom.j / (4*np.pi)\n",
    "    ###\n",
    "    '''\n",
    "    # set up grid\n",
    "    XX, YY, ZZ = np.meshgrid(xs, ys, zs, indexing=\"ij\")\n",
    "    grid = pd.DataFrame({\"X\":XX.ravel(), \"Y\":YY.ravel(), \"Z\":ZZ.ravel()})\n",
    "    '''\n",
    "    # start file\n",
    "    nx, ny, nz = (len(xs), len(ys), len(zs))\n",
    "    with open(outfile, \"w\") as file:\n",
    "        file.write(\"Helicalc field map (GPU)\\n\")\n",
    "        file.write(f\"Helix Parameters (coil, conductor): {coilfile}, {conductorfile}\\n\")\n",
    "        file.write(f\"{nx}, {ny}, {nz} (x, y, z) grid\\n\")\n",
    "        file.write(f\"({nx*ny*nz} field points)\\n\")\n",
    "        file.write(\"x[mm]\\ty[mm]\\tz[mm]\\tBx[T]\\tBy[T]\\tBz[T]\\n\")\n",
    "    print(\"File Creation Successful:\\n\")\n",
    "    print(\"---------------------------------------------------------\\n\\n\")\n",
    "    # start timer\n",
    "    t0 = time.time()\n",
    "    last_x = np.nan # do something cleaner next time\n",
    "    last_y = ys[0]\n",
    "    Bxsum = []\n",
    "    Bysum = []\n",
    "    Bzsum = []        \n",
    "    # start loops!\n",
    "    '''\n",
    "    n = 0\n",
    "    for pos in grid.itertuples():\n",
    "        if not np.isclose(pos.Y, last_y):\n",
    "            print(pos.Y, last_y)\n",
    "            print(len(zs), len(Bxsum))\n",
    "            #print(f\"    y: {pos.Y}\")\n",
    "            ## WRITE TO FILE\n",
    "            with open(outfile, \"a\") as file:\n",
    "                for i, z in enumerate(zs):\n",
    "                    file.write(\"\\t\".join([str(1e3*last_x), str(1e3*last_y), str(1e3*z),\\\n",
    "                                          str(Bxsum[i]), str(Bysum[i]), str(Bzsum[i])]) + \"\\n\")\n",
    "            \n",
    "            Bxsum = []\n",
    "            Bysum = []\n",
    "            Bzsum = []\n",
    "            last_y = pos.Y\n",
    "            \n",
    "        \n",
    "        if not np.isclose(pos.X, last_x):\n",
    "            last_x = pos.X\n",
    "            print(f\"Processing x: {pos.X}; Elapsed Time: {time.time()-t0}; {n/len(grid) * 100}% Complete\")\n",
    "            \n",
    "        # CALCULATE FIELD\n",
    "        Bx, By, Bz = field_helix_gpu(coils, conductors, pos)\n",
    "        print(Bx, By, Bz)\n",
    "        Bxsum.append(Bx)\n",
    "        Bysum.append(By)\n",
    "        Bzsum.append(Bz)\n",
    "        \n",
    "        n += 1\n",
    "    '''\n",
    "    \n",
    "    n = 0\n",
    "    tot_N = len(xs)*len(ys)*len(zs)\n",
    "    #N = len(zs)\n",
    "    #z_N = zs\n",
    "    for x in xs:\n",
    "        print(f\"Processing x: {1e3*x}; Elapsed Time: {time.time()-t0}; {n/tot_N * 100}% Complete\")\n",
    "        #x_N = x * np.ones(N)\n",
    "        for y in ys:\n",
    "            #y_N = y * np.ones(N)\n",
    "            \n",
    "            Bxsum = []\n",
    "            Bysum = []\n",
    "            Bzsum = []\n",
    "            for z in zs:\n",
    "                Bx_ = 0.\n",
    "                By_ = 0.\n",
    "                Bz_ = 0.\n",
    "                for g in geom.itertuples():\n",
    "                    Bx, By, Bz = field_helix_gpu(g, x, y, z)\n",
    "                    Bx_ += Bx\n",
    "                    By_ += By\n",
    "                    Bz_ += Bz\n",
    "                Bxsum.append(Bx_)\n",
    "                Bysum.append(By_)\n",
    "                Bzsum.append(Bz_)\n",
    "            \n",
    "            \n",
    "            '''\n",
    "            Bxsum, Bysum, Bzsum = np.zeros((3, N))\n",
    "            \n",
    "            for coil,conductor in zip(coils.itertuples(), conductors.itertuples()):\n",
    "                Bx, By, Bz = field_helix_gpu(geom, x_N, y_N, z_N)\n",
    "                Bxsum += Bx\n",
    "                Bysum += By\n",
    "                Bzsum += Bz\n",
    "            '''\n",
    "            \n",
    "            ## WRITE TO FILE\n",
    "            with open(outfile, \"a\") as file:\n",
    "                for i, z in enumerate(zs):\n",
    "                    file.write(\"\\t\".join([str(1e3*last_x), str(1e3*last_y), str(1e3*z),\\\n",
    "                                          str(Bxsum[i]), str(Bysum[i]), str(Bzsum[i])]) + \"\\n\")\n",
    "            n += N\n",
    "    \n",
    "    tot_time = time.time() - t0\n",
    "    print(f\"Calculation Complete! Elapsed Time: {tot_time}; {n/tot_N * 100}% Complete\")\n",
    "    print(f\"Time / Point: {tot_time / tot_N} s / point\")"
   ]
  },
  {
   "cell_type": "code",
   "execution_count": null,
   "metadata": {},
   "outputs": [],
   "source": [
    "def field_helix_gpu(g, x, y, z):\n",
    "    # g == geom named tuple (pandas)\n",
    "    \n",
    "    \n",
    "    \n",
    "    \n",
    "    \n",
    "    \n",
    "    return 1., 2., 3."
   ]
  },
  {
   "cell_type": "code",
   "execution_count": null,
   "metadata": {},
   "outputs": [],
   "source": [
    "for coil in coils.itertuples():\n",
    "    c = coil"
   ]
  },
  {
   "cell_type": "code",
   "execution_count": null,
   "metadata": {},
   "outputs": [],
   "source": [
    "for conductor in conductors.itertuples():\n",
    "    cd = conductor"
   ]
  },
  {
   "cell_type": "code",
   "execution_count": null,
   "metadata": {
    "scrolled": true
   },
   "outputs": [],
   "source": [
    "c"
   ]
  },
  {
   "cell_type": "code",
   "execution_count": null,
   "metadata": {},
   "outputs": [],
   "source": [
    "cd"
   ]
  },
  {
   "cell_type": "code",
   "execution_count": null,
   "metadata": {},
   "outputs": [],
   "source": [
    "type(c)"
   ]
  },
  {
   "cell_type": "code",
   "execution_count": null,
   "metadata": {},
   "outputs": [],
   "source": [
    "c"
   ]
  },
  {
   "cell_type": "code",
   "execution_count": null,
   "metadata": {},
   "outputs": [],
   "source": [
    "coils"
   ]
  },
  {
   "cell_type": "code",
   "execution_count": null,
   "metadata": {},
   "outputs": [],
   "source": [
    "conductors"
   ]
  },
  {
   "cell_type": "code",
   "execution_count": null,
   "metadata": {},
   "outputs": [],
   "source": [
    "g = pd.concat([coils, conductors], axis=1)"
   ]
  },
  {
   "cell_type": "code",
   "execution_count": null,
   "metadata": {},
   "outputs": [],
   "source": [
    "g"
   ]
  },
  {
   "cell_type": "code",
   "execution_count": null,
   "metadata": {},
   "outputs": [],
   "source": []
  },
  {
   "cell_type": "code",
   "execution_count": null,
   "metadata": {},
   "outputs": [],
   "source": []
  },
  {
   "cell_type": "code",
   "execution_count": null,
   "metadata": {},
   "outputs": [],
   "source": [
    "coils.columns"
   ]
  },
  {
   "cell_type": "code",
   "execution_count": null,
   "metadata": {},
   "outputs": [],
   "source": [
    "conductors.columns"
   ]
  },
  {
   "cell_type": "code",
   "execution_count": null,
   "metadata": {},
   "outputs": [],
   "source": [
    "np.zeros((3, 10))"
   ]
  },
  {
   "cell_type": "code",
   "execution_count": null,
   "metadata": {},
   "outputs": [],
   "source": []
  },
  {
   "cell_type": "code",
   "execution_count": null,
   "metadata": {},
   "outputs": [],
   "source": [
    "coils.loc[0, 'Ri']"
   ]
  },
  {
   "cell_type": "code",
   "execution_count": null,
   "metadata": {},
   "outputs": [],
   "source": [
    "coils.loc[0].Ri"
   ]
  },
  {
   "cell_type": "code",
   "execution_count": null,
   "metadata": {},
   "outputs": [],
   "source": [
    "start_time = time.time()"
   ]
  },
  {
   "cell_type": "code",
   "execution_count": null,
   "metadata": {},
   "outputs": [],
   "source": [
    "end_time = time.time()"
   ]
  },
  {
   "cell_type": "code",
   "execution_count": null,
   "metadata": {},
   "outputs": [],
   "source": [
    "end_time-start_time"
   ]
  },
  {
   "cell_type": "code",
   "execution_count": null,
   "metadata": {},
   "outputs": [],
   "source": [
    "out_dir = \"maps/\"\n",
    "params_dir = \"params/\"\n",
    "geom_name = \"r250mm_p10cm\"\n",
    "out_name = \"r250mm_p10cm_03-24-2020.txt\""
   ]
  },
  {
   "cell_type": "code",
   "execution_count": null,
   "metadata": {},
   "outputs": [],
   "source": [
    "outfile = out_dir+out_name\n",
    "coilfile = params_dir+geom_name+\"_coil.txt\"\n",
    "conductorfile = params_dir+geom_name+\"_conductor.txt\""
   ]
  },
  {
   "cell_type": "code",
   "execution_count": null,
   "metadata": {},
   "outputs": [],
   "source": [
    "xs = [-50, 0, 50]\n",
    "ys = [-50, 0, 50]\n",
    "zs = np.linspace(-4, 4, 9)"
   ]
  },
  {
   "cell_type": "code",
   "execution_count": null,
   "metadata": {},
   "outputs": [],
   "source": [
    "helicalc_main(outfile=out_dir+out_name, coilfile=params_dir+geom_name+\"_coil.txt\", \n",
    "              conductorfile=params_dir+geom_name+\"_conductor.txt\",\n",
    "              xs=xs, ys=ys, zs=zs)"
   ]
  },
  {
   "cell_type": "code",
   "execution_count": null,
   "metadata": {},
   "outputs": [],
   "source": [
    "xs"
   ]
  },
  {
   "cell_type": "code",
   "execution_count": null,
   "metadata": {},
   "outputs": [],
   "source": [
    "coils = read_coils(filename=coilfile)\n",
    "conductors = read_conductors(filename=conductorfile)\n",
    "# set up grid\n",
    "XX, YY, ZZ = np.meshgrid(xs, ys, zs, indexing=\"ij\")\n",
    "grid = pd.DataFrame({\"X\":XX.ravel(), \"Y\":YY.ravel(), \"Z\":ZZ.ravel()})\n",
    "# start file\n",
    "nx, ny, nz = (len(xs), len(ys), len(zs))"
   ]
  },
  {
   "cell_type": "code",
   "execution_count": null,
   "metadata": {},
   "outputs": [],
   "source": [
    "grid"
   ]
  },
  {
   "cell_type": "code",
   "execution_count": null,
   "metadata": {},
   "outputs": [],
   "source": [
    "last_x = np.nan\n",
    "last_y = np.nan\n",
    "#last_z = zs[0]"
   ]
  },
  {
   "cell_type": "code",
   "execution_count": null,
   "metadata": {},
   "outputs": [],
   "source": [
    "for pos in grid.itertuples():\n",
    "    if pos.X != last_x:\n",
    "        last_x = pos.X\n",
    "        print(f\"x: {pos.X}\")\n",
    "    if pos.Y != last_y:\n",
    "        last_y = pos.Y\n",
    "        print(f\"    y: {pos.Y}\")"
   ]
  },
  {
   "cell_type": "code",
   "execution_count": null,
   "metadata": {},
   "outputs": [],
   "source": []
  },
  {
   "cell_type": "code",
   "execution_count": null,
   "metadata": {},
   "outputs": [],
   "source": []
  },
  {
   "cell_type": "code",
   "execution_count": null,
   "metadata": {},
   "outputs": [],
   "source": []
  },
  {
   "cell_type": "markdown",
   "metadata": {},
   "source": [
    "## Combined Coils and Conductor"
   ]
  },
  {
   "cell_type": "code",
   "execution_count": null,
   "metadata": {},
   "outputs": [],
   "source": [
    "def read_solenoid_geom(geom_name):\n",
    "    # coils\n",
    "    cols_coil = [\"Ri\", \"Ro\", \"L\", \"x\", \"y\", \"z\" , \"rot0\", \"rot1\", \"rot2\",\n",
    "                 \"I_tot\", \"N_layers\", \"N_turns\", \"N_turns_tot\", \"I_turn\", \"helicity\"]\n",
    "    cols_coil_rescale = [\"Ri\", \"Ro\", \"L\", \"x\", \"y\", \"z\"]\n",
    "\n",
    "    Coils = pd.read_csv(params_dir+geom_name+\"_coil.txt\", names=cols_coil, delimiter=\"\\t\")\n",
    "    for col in cols_coil_rescale:\n",
    "        Coils[col] = Coils[col] / 1e3\n",
    "    # conductor\n",
    "    cols_cond = [\"h_cable\", \"w_cable\", \"h_sc\", \"w_sc\", \"t_gi\", \"t_ci\", \"t_il\", \"phi0\", \"phi1\"]\n",
    "    cols_cond_rescale = [\"h_cable\", \"w_cable\", \"h_sc\", \"w_sc\", \"t_gi\", \"t_ci\", \"t_il\"]\n",
    "\n",
    "    Conductor = pd.read_csv(params_dir+geom_name+\"_conductor.txt\", names=cols_cond, delimiter=\"\\t\")\n",
    "    for col in cols_cond_rescale:\n",
    "        Conductor[col] = Conductor[col] / 1e3\n",
    "    \n",
    "    return Coils, Conductor"
   ]
  },
  {
   "cell_type": "code",
   "execution_count": null,
   "metadata": {},
   "outputs": [],
   "source": [
    "geom_name = \"r250mm_p10cm\""
   ]
  },
  {
   "cell_type": "code",
   "execution_count": null,
   "metadata": {},
   "outputs": [],
   "source": [
    "Coils, Conductor = read_solenoid_geom(geom_name)"
   ]
  },
  {
   "cell_type": "code",
   "execution_count": null,
   "metadata": {},
   "outputs": [],
   "source": [
    "Coils"
   ]
  },
  {
   "cell_type": "code",
   "execution_count": null,
   "metadata": {},
   "outputs": [],
   "source": [
    "Conductor"
   ]
  },
  {
   "cell_type": "code",
   "execution_count": null,
   "metadata": {},
   "outputs": [],
   "source": [
    "%timeit Coils, Conductor = read_solenoid_geom(geom_name)"
   ]
  },
  {
   "cell_type": "markdown",
   "metadata": {},
   "source": [
    "This only happens once in the program execution, so this is fine to stay serialized on CPU."
   ]
  },
  {
   "cell_type": "markdown",
   "metadata": {},
   "source": [
    "## \"helicalc_bfield_gpu\""
   ]
  },
  {
   "cell_type": "markdown",
   "metadata": {},
   "source": [
    "- ignoring return bus issue until later"
   ]
  },
  {
   "cell_type": "code",
   "execution_count": null,
   "metadata": {},
   "outputs": [],
   "source": [
    "# get coils and conductors\n",
    "Coils, Conductor = read_solenoid_geom(geom_name)"
   ]
  },
  {
   "cell_type": "code",
   "execution_count": null,
   "metadata": {},
   "outputs": [],
   "source": [
    "# number of coils read\n",
    "len(Coils)"
   ]
  },
  {
   "cell_type": "code",
   "execution_count": null,
   "metadata": {},
   "outputs": [],
   "source": [
    "nx, ny, nz = [3,3,3]"
   ]
  },
  {
   "cell_type": "code",
   "execution_count": null,
   "metadata": {},
   "outputs": [],
   "source": [
    "nx"
   ]
  },
  {
   "cell_type": "code",
   "execution_count": null,
   "metadata": {},
   "outputs": [],
   "source": [
    "x0, y0, z0 = [-.25, -.25,-.25]"
   ]
  },
  {
   "cell_type": "code",
   "execution_count": null,
   "metadata": {},
   "outputs": [],
   "source": [
    "x0"
   ]
  },
  {
   "cell_type": "code",
   "execution_count": null,
   "metadata": {},
   "outputs": [],
   "source": [
    "dx, dy, dz = [0.25, 0.25, 0.25]"
   ]
  },
  {
   "cell_type": "code",
   "execution_count": null,
   "metadata": {},
   "outputs": [],
   "source": [
    "dx"
   ]
  },
  {
   "cell_type": "code",
   "execution_count": null,
   "metadata": {},
   "outputs": [],
   "source": [
    "xf = x0 + (nx-1)*dx\n",
    "yf = y0 + (ny-1)*dy\n",
    "zf = z0 + (nz-1)*dz"
   ]
  },
  {
   "cell_type": "code",
   "execution_count": null,
   "metadata": {},
   "outputs": [],
   "source": [
    "xf, yf, zf"
   ]
  },
  {
   "cell_type": "code",
   "execution_count": null,
   "metadata": {},
   "outputs": [],
   "source": [
    "xs = np.linspace(x0, xf, nx)\n",
    "ys = np.linspace(y0, yf, ny)\n",
    "zs = np.linspace(z0, zf, nz)"
   ]
  },
  {
   "cell_type": "code",
   "execution_count": null,
   "metadata": {},
   "outputs": [],
   "source": [
    "xs, ys, zs"
   ]
  },
  {
   "cell_type": "markdown",
   "metadata": {},
   "source": [
    "## Trapezoidal (CPU)"
   ]
  },
  {
   "cell_type": "code",
   "execution_count": null,
   "metadata": {},
   "outputs": [],
   "source": [
    "## trapezoidal integration CPU"
   ]
  },
  {
   "cell_type": "code",
   "execution_count": 14,
   "metadata": {},
   "outputs": [],
   "source": [
    "#%%file ../helicalc/integrate.py\n",
    "def trapz_3d(xs, ys, zs, integrand_xyz, int_func=tc.trapz):\n",
    "    return int_func(int_func(int_func(integrand_xyz, axis=-1, x=zs), axis=-1, x=ys), axis=-1, x=xs)"
   ]
  },
  {
   "cell_type": "markdown",
   "metadata": {},
   "source": [
    "- Start with some 3d integral with a known, analytical result. (https://tutorial.math.lamar.edu/Solutions/CalcIII/TripleIntegrals/Prob1.aspx)\n",
    "- Let's also try using both np.trapz as well as scipy.integrate.simps and compare results / speeds."
   ]
  },
  {
   "attachments": {
    "image.png": {
     "image/png": "[encoded data removed]"
    }
   },
   "cell_type": "markdown",
   "metadata": {},
   "source": [
    "![image.png](attachment:image.png)"
   ]
  },
  {
   "cell_type": "code",
   "execution_count": 15,
   "metadata": {},
   "outputs": [],
   "source": [
    "result_true = -755/4"
   ]
  },
  {
   "cell_type": "code",
   "execution_count": 16,
   "metadata": {},
   "outputs": [],
   "source": [
    "dxyz = 0.1\n",
    "dxyz_fine = 0.01"
   ]
  },
  {
   "cell_type": "code",
   "execution_count": 17,
   "metadata": {},
   "outputs": [
    {
     "data": {
      "text/plain": [
       "array([2. , 2.1, 2.2, 2.3, 2.4, 2.5, 2.6, 2.7, 2.8, 2.9, 3. ])"
      ]
     },
     "execution_count": 17,
     "metadata": {},
     "output_type": "execute_result"
    }
   ],
   "source": [
    "np.linspace(2, 3, int((3-2)/0.1 + 1))"
   ]
  },
  {
   "cell_type": "code",
   "execution_count": 18,
   "metadata": {},
   "outputs": [],
   "source": [
    "def f_ex01(x, y, z):\n",
    "    return 4*x**2*y - z**3"
   ]
  },
  {
   "cell_type": "code",
   "execution_count": 19,
   "metadata": {},
   "outputs": [],
   "source": [
    "def integral_tester(dxyz=[0.1,0.1,0.1], xyz_lims =[[2,3],[-1,4],[1,0]], integrand_func=f_ex01, int_func=np.trapz):\n",
    "    xs = np.linspace(xyz_lims[0][0], xyz_lims[0][1], abs(int((xyz_lims[0][1]-xyz_lims[0][0])/dxyz[0] + 1)))\n",
    "    ys = np.linspace(xyz_lims[1][0], xyz_lims[1][1], abs(int((xyz_lims[1][1]-xyz_lims[1][0])/dxyz[1] + 1)))\n",
    "    zs = np.linspace(xyz_lims[2][0], xyz_lims[2][1], abs(int((xyz_lims[2][1]-xyz_lims[2][0])/dxyz[2] + 1)))\n",
    "    X, Y, Z = np.meshgrid(xs,ys,zs, indexing='ij')\n",
    "    integrand_xyz = integrand_func(X,Y,Z)\n",
    "    result = trapz_3d(xs, ys, zs, integrand_xyz, int_func)\n",
    "    return result"
   ]
  },
  {
   "cell_type": "code",
   "execution_count": 20,
   "metadata": {},
   "outputs": [
    {
     "data": {
      "text/plain": [
       "(-188.78046875, -188.74999999999997)"
      ]
     },
     "execution_count": 20,
     "metadata": {},
     "output_type": "execute_result"
    }
   ],
   "source": [
    "integral_tester(), integral_tester(int_func=simps)"
   ]
  },
  {
   "cell_type": "code",
   "execution_count": 21,
   "metadata": {},
   "outputs": [
    {
     "data": {
      "text/plain": [
       "(-0.00036984589752364627, 2.842170943040401e-14)"
      ]
     },
     "execution_count": 21,
     "metadata": {},
     "output_type": "execute_result"
    }
   ],
   "source": [
    "integral_tester(dxyz=3*[1e-2])-result_true, integral_tester(dxyz=3*[1e-2],int_func=simps)-result_true"
   ]
  },
  {
   "cell_type": "code",
   "execution_count": 22,
   "metadata": {},
   "outputs": [
    {
     "data": {
      "text/plain": [
       "(188.75, 2.842170943040401e-14)"
      ]
     },
     "execution_count": 22,
     "metadata": {},
     "output_type": "execute_result"
    }
   ],
   "source": [
    "integral_tester(dxyz=3*[5e-1],int_func=simps)-result_true,\\\n",
    "integral_tester(dxyz=3*[1e-1],int_func=simps)-result_true,\\\n",
    "#integral_tester(dxyz=3*[1e-3],int_func=simps)-result_true"
   ]
  },
  {
   "cell_type": "code",
   "execution_count": 23,
   "metadata": {
    "scrolled": true
   },
   "outputs": [
    {
     "data": {
      "text/plain": [
       "(-0.03046875000001137, -0.00036984589752364627)"
      ]
     },
     "execution_count": 23,
     "metadata": {},
     "output_type": "execute_result"
    }
   ],
   "source": [
    "integral_tester(dxyz=3*[1e-1])-result_true,\\\n",
    "integral_tester(dxyz=3*[1e-2])-result_true,\\\n",
    "#integral_tester(dxyz=3*[1e-3],int_func=simps)-result_true"
   ]
  },
  {
   "cell_type": "code",
   "execution_count": null,
   "metadata": {},
   "outputs": [],
   "source": []
  },
  {
   "cell_type": "markdown",
   "metadata": {},
   "source": [
    "# Trapezoidal (GPU)"
   ]
  },
  {
   "cell_type": "code",
   "execution_count": null,
   "metadata": {},
   "outputs": [],
   "source": [
    "def integral_tester0(dxyz=[0.1,0.1,0.1], xyz_lims =[[2,3],[-1,4],[1,0]], integrand_func=f_ex01, int_func=np.trapz, lib=np, dev='cuda:0'):\n",
    "    xs = lib.linspace(xyz_lims[0][0], xyz_lims[0][1], abs(int((xyz_lims[0][1]-xyz_lims[0][0])/dxyz[0] + 1)))\n",
    "    ys = lib.linspace(xyz_lims[1][0], xyz_lims[1][1], abs(int((xyz_lims[1][1]-xyz_lims[1][0])/dxyz[1] + 1)))\n",
    "    zs = lib.linspace(xyz_lims[2][0], xyz_lims[2][1], abs(int((xyz_lims[2][1]-xyz_lims[2][0])/dxyz[2] + 1)))\n",
    "    if lib is tc:\n",
    "        X, Y, Z = lib.meshgrid(xs,ys,zs)\n",
    "    else:\n",
    "        X, Y, Z = lib.meshgrid(xs,ys,zs, indexing='ij')\n",
    "    integrand_xyz = integrand_func(X,Y,Z)\n",
    "    result = trapz_3d(xs, ys, zs, integrand_xyz, int_func)\n",
    "    return result\n",
    "\n",
    "def integral_tester1(dxyz=[0.1,0.1,0.1], xyz_lims =[[2,3],[-1,4],[1,0]], integrand_func=f_ex01, int_func=np.trapz, lib=np, dev='cuda:0'):\n",
    "    xs = lib.linspace(xyz_lims[0][0], xyz_lims[0][1], abs(int((xyz_lims[0][1]-xyz_lims[0][0])/dxyz[0] + 1))).cuda()\n",
    "    ys = lib.linspace(xyz_lims[1][0], xyz_lims[1][1], abs(int((xyz_lims[1][1]-xyz_lims[1][0])/dxyz[1] + 1))).cuda()\n",
    "    zs = lib.linspace(xyz_lims[2][0], xyz_lims[2][1], abs(int((xyz_lims[2][1]-xyz_lims[2][0])/dxyz[2] + 1))).cuda()\n",
    "    if lib is tc:\n",
    "        #xs = xs.to(tc.device(dev))\n",
    "        #ys = ys.to(tc.device(dev))\n",
    "        #zs = zs.to(tc.device(dev))\n",
    "        X, Y, Z = lib.meshgrid(xs,ys,zs)\n",
    "    else:\n",
    "        X, Y, Z = lib.meshgrid(xs,ys,zs, indexing='ij')\n",
    "    integrand_xyz = integrand_func(X,Y,Z)\n",
    "    result = trapz_3d(xs, ys, zs, integrand_xyz, int_func)\n",
    "    return result\n",
    "\n",
    "\n",
    "def integral_tester2(dxyz=[0.1,0.1,0.1], xyz_lims =[[2,3],[-1,4],[1,0]], integrand_func=f_ex01, int_func=np.trapz, lib=np, dev='cuda:0'):\n",
    "    xs = lib.linspace(xyz_lims[0][0], xyz_lims[0][1], abs(int((xyz_lims[0][1]-xyz_lims[0][0])/dxyz[0] + 1)))\n",
    "    ys = lib.linspace(xyz_lims[1][0], xyz_lims[1][1], abs(int((xyz_lims[1][1]-xyz_lims[1][0])/dxyz[1] + 1)))\n",
    "    zs = lib.linspace(xyz_lims[2][0], xyz_lims[2][1], abs(int((xyz_lims[2][1]-xyz_lims[2][0])/dxyz[2] + 1)))\n",
    "    if lib is tc:\n",
    "        X, Y, Z = lib.meshgrid(xs,ys,zs)\n",
    "        X = X.to(tc.device(dev))\n",
    "        Y = Y.to(tc.device(dev))\n",
    "        Z = Z.to(tc.device(dev))\n",
    "    else:\n",
    "        X, Y, Z = lib.meshgrid(xs,ys,zs, indexing='ij')\n",
    "    integrand_xyz = integrand_func(X,Y,Z)\n",
    "    result = trapz_3d(xs.cuda(), ys.cuda(), zs.cuda(), integrand_xyz, int_func)\n",
    "    return result\n",
    "\n",
    "\n",
    "def integral_tester3(dxyz=[0.1,0.1,0.1], xyz_lims =[[2,3],[-1,4],[1,0]], integrand_func=f_ex01, int_func=np.trapz, lib=np, dev='cuda:0'):\n",
    "    xs = lib.linspace(xyz_lims[0][0], xyz_lims[0][1], abs(int((xyz_lims[0][1]-xyz_lims[0][0])/dxyz[0] + 1)))\n",
    "    ys = lib.linspace(xyz_lims[1][0], xyz_lims[1][1], abs(int((xyz_lims[1][1]-xyz_lims[1][0])/dxyz[1] + 1)))\n",
    "    zs = lib.linspace(xyz_lims[2][0], xyz_lims[2][1], abs(int((xyz_lims[2][1]-xyz_lims[2][0])/dxyz[2] + 1)))\n",
    "    if lib is tc:\n",
    "        X, Y, Z = lib.meshgrid(xs,ys,zs)\n",
    "    else:\n",
    "        X, Y, Z = lib.meshgrid(xs,ys,zs, indexing='ij')\n",
    "    integrand_xyz = integrand_func(X,Y,Z)\n",
    "    if lib is tc:\n",
    "        integrand_xyz = integrand_xyz.to(tc.device(dev))\n",
    "    result = trapz_3d(xs.cuda(), ys.cuda(), zs.cuda(), integrand_xyz, int_func)\n",
    "    return result"
   ]
  },
  {
   "cell_type": "code",
   "execution_count": null,
   "metadata": {},
   "outputs": [],
   "source": [
    "%time integral_tester0(dxyz=3*[5e-3],int_func=simps, lib=np)"
   ]
  },
  {
   "cell_type": "code",
   "execution_count": null,
   "metadata": {},
   "outputs": [],
   "source": [
    "%time integral_tester0(dxyz=3*[5e-3],int_func=np.trapz, lib=np)"
   ]
  },
  {
   "cell_type": "code",
   "execution_count": null,
   "metadata": {},
   "outputs": [],
   "source": [
    "%time integral_tester0(dxyz=3*[5e-3],int_func=tc.trapz, lib=tc)"
   ]
  },
  {
   "cell_type": "code",
   "execution_count": null,
   "metadata": {},
   "outputs": [],
   "source": [
    "%time integral_tester1(dxyz=3*[5e-3],int_func=tc.trapz, lib=tc) # .to()"
   ]
  },
  {
   "cell_type": "code",
   "execution_count": null,
   "metadata": {},
   "outputs": [],
   "source": []
  },
  {
   "cell_type": "code",
   "execution_count": null,
   "metadata": {},
   "outputs": [],
   "source": [
    "%time integral_tester1(dxyz=3*[5e-3],int_func=tc.trapz, lib=tc) # .cuda()"
   ]
  },
  {
   "cell_type": "code",
   "execution_count": null,
   "metadata": {},
   "outputs": [],
   "source": [
    "integral_tester1(dxyz=3*[2e-3],int_func=tc.trapz, lib=tc) # .cuda()"
   ]
  },
  {
   "cell_type": "code",
   "execution_count": null,
   "metadata": {},
   "outputs": [],
   "source": [
    "a = [2,3]\n",
    "#a = [-1,4]\n",
    "#a = [1,0]"
   ]
  },
  {
   "cell_type": "code",
   "execution_count": null,
   "metadata": {},
   "outputs": [],
   "source": [
    "np.linspace(a[0],a[1], abs(a[1]-a[0]))"
   ]
  },
  {
   "cell_type": "code",
   "execution_count": null,
   "metadata": {},
   "outputs": [],
   "source": []
  },
  {
   "cell_type": "code",
   "execution_count": null,
   "metadata": {},
   "outputs": [],
   "source": []
  },
  {
   "cell_type": "code",
   "execution_count": null,
   "metadata": {},
   "outputs": [],
   "source": [
    "%time integral_tester2(dxyz=3*[5e-3],int_func=tc.trapz, lib=tc)"
   ]
  },
  {
   "cell_type": "code",
   "execution_count": null,
   "metadata": {},
   "outputs": [],
   "source": [
    "%time integral_tester3(dxyz=3*[5e-3],int_func=tc.trapz, lib=tc)"
   ]
  },
  {
   "cell_type": "code",
   "execution_count": null,
   "metadata": {},
   "outputs": [],
   "source": []
  },
  {
   "cell_type": "code",
   "execution_count": null,
   "metadata": {},
   "outputs": [],
   "source": [
    "235/6.09 # 227"
   ]
  },
  {
   "cell_type": "code",
   "execution_count": null,
   "metadata": {},
   "outputs": [],
   "source": []
  },
  {
   "cell_type": "code",
   "execution_count": null,
   "metadata": {},
   "outputs": [],
   "source": [
    "tc.cuda.set_device(0)"
   ]
  },
  {
   "cell_type": "code",
   "execution_count": null,
   "metadata": {},
   "outputs": [],
   "source": [
    "xs = tc.linspace(0,10,10)"
   ]
  },
  {
   "cell_type": "code",
   "execution_count": null,
   "metadata": {},
   "outputs": [],
   "source": [
    "xs.device"
   ]
  },
  {
   "cell_type": "code",
   "execution_count": null,
   "metadata": {},
   "outputs": [],
   "source": [
    "xs.to(tc.device('cuda:0'))"
   ]
  },
  {
   "cell_type": "code",
   "execution_count": null,
   "metadata": {},
   "outputs": [],
   "source": [
    "xs.device"
   ]
  },
  {
   "cell_type": "code",
   "execution_count": null,
   "metadata": {},
   "outputs": [],
   "source": []
  },
  {
   "cell_type": "code",
   "execution_count": null,
   "metadata": {},
   "outputs": [],
   "source": [
    "xs = tc.linspace(0,10,10).cuda()\n",
    "ys = tc.linspace(0,10,10).cuda()\n",
    "zs = tc.linspace(0,10,10).cuda()"
   ]
  },
  {
   "cell_type": "code",
   "execution_count": null,
   "metadata": {},
   "outputs": [],
   "source": [
    "xs.device"
   ]
  },
  {
   "cell_type": "code",
   "execution_count": null,
   "metadata": {},
   "outputs": [],
   "source": [
    "X, Y, Z = tc.meshgrid(xs,ys,zs)"
   ]
  },
  {
   "cell_type": "code",
   "execution_count": null,
   "metadata": {},
   "outputs": [],
   "source": [
    "X.device"
   ]
  },
  {
   "cell_type": "code",
   "execution_count": null,
   "metadata": {},
   "outputs": [],
   "source": []
  },
  {
   "cell_type": "code",
   "execution_count": null,
   "metadata": {},
   "outputs": [],
   "source": []
  },
  {
   "cell_type": "markdown",
   "metadata": {},
   "source": [
    "# Class Based Setup (cached xs, ys, zs)"
   ]
  },
  {
   "cell_type": "code",
   "execution_count": null,
   "metadata": {},
   "outputs": [],
   "source": [
    "def integral_tester1(dxyz=[0.1,0.1,0.1], xyz_lims =[[2,3],[-1,4],[1,0]], integrand_func=f_ex01, int_func=np.trapz, lib=np, dev='cuda:0'):\n",
    "    xs = lib.linspace(xyz_lims[0][0], xyz_lims[0][1], abs(int((xyz_lims[0][1]-xyz_lims[0][0])/dxyz[0] + 1))).cuda()\n",
    "    ys = lib.linspace(xyz_lims[1][0], xyz_lims[1][1], abs(int((xyz_lims[1][1]-xyz_lims[1][0])/dxyz[1] + 1))).cuda()\n",
    "    zs = lib.linspace(xyz_lims[2][0], xyz_lims[2][1], abs(int((xyz_lims[2][1]-xyz_lims[2][0])/dxyz[2] + 1))).cuda()\n",
    "    if lib is tc:\n",
    "        #xs = xs.to(tc.device(dev))\n",
    "        #ys = ys.to(tc.device(dev))\n",
    "        #zs = zs.to(tc.device(dev))\n",
    "        X, Y, Z = lib.meshgrid(xs,ys,zs)\n",
    "    else:\n",
    "        X, Y, Z = lib.meshgrid(xs,ys,zs, indexing='ij')\n",
    "    integrand_xyz = integrand_func(X,Y,Z)\n",
    "    result = trapz_3d(xs, ys, zs, integrand_xyz, int_func)\n",
    "    return result"
   ]
  },
  {
   "cell_type": "code",
   "execution_count": null,
   "metadata": {},
   "outputs": [],
   "source": [
    "def f_ex01(x, y, z, x0, y0, z0):\n",
    "    return 4*(x-x0)**2*(y-y0) - (z-z0)**3"
   ]
  },
  {
   "cell_type": "code",
   "execution_count": null,
   "metadata": {},
   "outputs": [],
   "source": [
    "class Integrator(object):\n",
    "    def __init__(self, dxyz, xyz_lims, int_func=tc.trapz, lib=tc, dev='cuda:0'):\n",
    "        self.xs = lib.linspace(xyz_lims[0][0], xyz_lims[0][1], abs(int((xyz_lims[0][1]-xyz_lims[0][0])/dxyz[0] + 1))).cuda()\n",
    "        self.ys = lib.linspace(xyz_lims[1][0], xyz_lims[1][1], abs(int((xyz_lims[1][1]-xyz_lims[1][0])/dxyz[1] + 1))).cuda()\n",
    "        self.zs = lib.linspace(xyz_lims[2][0], xyz_lims[2][1], abs(int((xyz_lims[2][1]-xyz_lims[2][0])/dxyz[2] + 1))).cuda()\n",
    "        self.X, self.Y, self.Z = lib.meshgrid(self.xs,self.ys,self.zs)\n",
    "        #self.integrand_func = get_int_func(X,Y,Z, int_func)\n",
    "    \n",
    "    def integrate(self, int_func, x0=0, y0=0, z0=0):\n",
    "        # int_func must have params (x, y, z, x0, y0, z0)\n",
    "        integrand_xyz = int_func(self.X,self.Y,self.Z,x0,y0,z0)\n",
    "        self.last_result = trapz_3d(self.xs, self.ys, self.zs, integrand_xyz, tc.trapz)\n",
    "\n",
    "        return self.last_result"
   ]
  },
  {
   "cell_type": "code",
   "execution_count": null,
   "metadata": {},
   "outputs": [],
   "source": [
    "%time MyIntegrator = Integrator(dxyz=3*[2e-3], xyz_lims=[[2,3],[-1,4],[1,0]])"
   ]
  },
  {
   "cell_type": "code",
   "execution_count": null,
   "metadata": {},
   "outputs": [],
   "source": [
    "%time MyIntegrator.integrate(f_ex01)"
   ]
  },
  {
   "cell_type": "code",
   "execution_count": null,
   "metadata": {},
   "outputs": [],
   "source": []
  },
  {
   "cell_type": "code",
   "execution_count": null,
   "metadata": {},
   "outputs": [],
   "source": [
    "# LONG RUN\n",
    "#%timeit MyIntegrator.integrate(f_ex01)"
   ]
  },
  {
   "cell_type": "code",
   "execution_count": null,
   "metadata": {},
   "outputs": [],
   "source": [
    "del(MyIntegrator)"
   ]
  },
  {
   "cell_type": "code",
   "execution_count": null,
   "metadata": {},
   "outputs": [],
   "source": [
    "tc.cuda.empty_cache()"
   ]
  },
  {
   "cell_type": "markdown",
   "metadata": {},
   "source": [
    "# Helix function"
   ]
  },
  {
   "cell_type": "code",
   "execution_count": null,
   "metadata": {},
   "outputs": [],
   "source": [
    "Coils, Conductor = read_solenoid_geom(geom_name)"
   ]
  },
  {
   "cell_type": "code",
   "execution_count": null,
   "metadata": {},
   "outputs": [],
   "source": [
    "Coils.iloc[0].values"
   ]
  },
  {
   "cell_type": "code",
   "execution_count": null,
   "metadata": {},
   "outputs": [],
   "source": [
    "Coils.iloc[0].Ri"
   ]
  },
  {
   "cell_type": "code",
   "execution_count": null,
   "metadata": {},
   "outputs": [],
   "source": [
    "Coils.iloc[0]"
   ]
  },
  {
   "cell_type": "code",
   "execution_count": null,
   "metadata": {},
   "outputs": [],
   "source": [
    "Conductor.iloc[0]"
   ]
  },
  {
   "cell_type": "code",
   "execution_count": 2,
   "metadata": {},
   "outputs": [],
   "source": [
    "#%%file ../helicalc/geometry.py\n",
    "def read_solenoid_geom_combined(geom_name, sep=',', skiprows=1):\n",
    "    # coils\n",
    "    cols_coil = [\"Coil_Num\",\"Ri\", \"Ro\", \"L\", \"x\", \"y\", \"z\" , \"rot0\", \"rot1\", \"rot2\",\n",
    "                 \"I_tot\", \"N_layers\", \"N_turns\", \"N_turns_tot\", \"I_turn\", \"helicity\"]\n",
    "    cols_coil_rescale = [\"Ri\", \"Ro\", \"L\", \"x\", \"y\", \"z\"]\n",
    "\n",
    "    Coils = pd.read_csv(params_dir+geom_name+\"_coil.txt\", names=cols_coil, sep=sep, skiprows=skiprows)\n",
    "    for col in cols_coil_rescale:\n",
    "        Coils[col] = Coils[col] / 1e3\n",
    "    # conductor\n",
    "    cols_cond = [\"h_cable\", \"w_cable\", \"h_sc\", \"w_sc\", \"t_gi\", \"t_ci\", \"t_il\", \"phi0\", \"phi1\"]\n",
    "    cols_cond_rescale = [\"h_cable\", \"w_cable\", \"h_sc\", \"w_sc\", \"t_gi\", \"t_ci\", \"t_il\"]\n",
    "\n",
    "    Conductor = pd.read_csv(params_dir+geom_name+\"_conductor.txt\", names=cols_cond, sep=sep, skiprows=skiprows)\n",
    "    for col in cols_cond_rescale:\n",
    "        Conductor[col] = Conductor[col] / 1e3\n",
    "    \n",
    "    # integration limits zeta\n",
    "    Conductor['zeta0'] = (Conductor.w_cable-Conductor.w_sc)/2. + Conductor.t_ci\n",
    "    Conductor['zeta1'] = Conductor.zeta0 + Conductor.w_sc\n",
    "    \n",
    "    df = pd.concat([Coils, Conductor], axis=1)\n",
    "    \n",
    "    # integration limits rho for first layer\n",
    "    # higher layers increased by offsets\n",
    "    df['rho0_a'] = df.Ri + (df.h_cable - df.h_sc)/2. + df.t_gi + df.t_ci\n",
    "    df['rho1_a'] = df.rho0_a + df.h_sc\n",
    "    \n",
    "    # current density\n",
    "    df['j'] = df.I_turn / ((df.rho1_a-df.rho0_a)*(df.zeta1-df.zeta0))\n",
    "    #df['j'] = df.I_turn / (df.w_sc*df.h_sc) # faster/more clear?\n",
    "    \n",
    "    df['mu_fac'] = mu_0 * df.j / (4*np.pi)\n",
    "    \n",
    "    df['phi_i'] = 0.\n",
    "    df['phi_f'] = 2*np.pi*df.N_turns\n",
    "    #df['pitch'] = df.w_cable + 2.*df.t_ci # BAD\n",
    "    df['pitch'] = df.L / df.N_turns\n",
    "    \n",
    "    #return Coils, Conductor\n",
    "    return df"
   ]
  },
  {
   "cell_type": "code",
   "execution_count": 3,
   "metadata": {},
   "outputs": [],
   "source": [
    "geom_name = 'DS_V13' # + '_adjusted'\n",
    "#geom_name = 'r1m_p10cm'"
   ]
  },
  {
   "cell_type": "code",
   "execution_count": 4,
   "metadata": {},
   "outputs": [
    {
     "ename": "NameError",
     "evalue": "name 'pd' is not defined",
     "output_type": "error",
     "traceback": [
      "\u001b[0;31m---------------------------------------------------------------------------\u001b[0m",
      "\u001b[0;31mNameError\u001b[0m                                 Traceback (most recent call last)",
      "\u001b[0;32m<ipython-input-4-7eb3b370ff24>\u001b[0m in \u001b[0;36m<module>\u001b[0;34m\u001b[0m\n\u001b[0;32m----> 1\u001b[0;31m \u001b[0mgeom_df\u001b[0m \u001b[0;34m=\u001b[0m \u001b[0mread_solenoid_geom_combined\u001b[0m\u001b[0;34m(\u001b[0m\u001b[0mgeom_name\u001b[0m\u001b[0;34m)\u001b[0m\u001b[0;34m\u001b[0m\u001b[0;34m\u001b[0m\u001b[0m\n\u001b[0m",
      "\u001b[0;32m<ipython-input-2-c2857eecf0d1>\u001b[0m in \u001b[0;36mread_solenoid_geom_combined\u001b[0;34m(geom_name, sep, skiprows)\u001b[0m\n\u001b[1;32m      6\u001b[0m     \u001b[0mcols_coil_rescale\u001b[0m \u001b[0;34m=\u001b[0m \u001b[0;34m[\u001b[0m\u001b[0;34m\"Ri\"\u001b[0m\u001b[0;34m,\u001b[0m \u001b[0;34m\"Ro\"\u001b[0m\u001b[0;34m,\u001b[0m \u001b[0;34m\"L\"\u001b[0m\u001b[0;34m,\u001b[0m \u001b[0;34m\"x\"\u001b[0m\u001b[0;34m,\u001b[0m \u001b[0;34m\"y\"\u001b[0m\u001b[0;34m,\u001b[0m \u001b[0;34m\"z\"\u001b[0m\u001b[0;34m]\u001b[0m\u001b[0;34m\u001b[0m\u001b[0;34m\u001b[0m\u001b[0m\n\u001b[1;32m      7\u001b[0m \u001b[0;34m\u001b[0m\u001b[0m\n\u001b[0;32m----> 8\u001b[0;31m     \u001b[0mCoils\u001b[0m \u001b[0;34m=\u001b[0m \u001b[0mpd\u001b[0m\u001b[0;34m.\u001b[0m\u001b[0mread_csv\u001b[0m\u001b[0;34m(\u001b[0m\u001b[0mparams_dir\u001b[0m\u001b[0;34m+\u001b[0m\u001b[0mgeom_name\u001b[0m\u001b[0;34m+\u001b[0m\u001b[0;34m\"_coil.txt\"\u001b[0m\u001b[0;34m,\u001b[0m \u001b[0mnames\u001b[0m\u001b[0;34m=\u001b[0m\u001b[0mcols_coil\u001b[0m\u001b[0;34m,\u001b[0m \u001b[0msep\u001b[0m\u001b[0;34m=\u001b[0m\u001b[0msep\u001b[0m\u001b[0;34m,\u001b[0m \u001b[0mskiprows\u001b[0m\u001b[0;34m=\u001b[0m\u001b[0mskiprows\u001b[0m\u001b[0;34m)\u001b[0m\u001b[0;34m\u001b[0m\u001b[0;34m\u001b[0m\u001b[0m\n\u001b[0m\u001b[1;32m      9\u001b[0m     \u001b[0;32mfor\u001b[0m \u001b[0mcol\u001b[0m \u001b[0;32min\u001b[0m \u001b[0mcols_coil_rescale\u001b[0m\u001b[0;34m:\u001b[0m\u001b[0;34m\u001b[0m\u001b[0;34m\u001b[0m\u001b[0m\n\u001b[1;32m     10\u001b[0m         \u001b[0mCoils\u001b[0m\u001b[0;34m[\u001b[0m\u001b[0mcol\u001b[0m\u001b[0;34m]\u001b[0m \u001b[0;34m=\u001b[0m \u001b[0mCoils\u001b[0m\u001b[0;34m[\u001b[0m\u001b[0mcol\u001b[0m\u001b[0;34m]\u001b[0m \u001b[0;34m/\u001b[0m \u001b[0;36m1e3\u001b[0m\u001b[0;34m\u001b[0m\u001b[0;34m\u001b[0m\u001b[0m\n",
      "\u001b[0;31mNameError\u001b[0m: name 'pd' is not defined"
     ]
    }
   ],
   "source": [
    "geom_df = read_solenoid_geom_combined(geom_name)"
   ]
  },
  {
   "cell_type": "code",
   "execution_count": null,
   "metadata": {},
   "outputs": [],
   "source": [
    "geom_df"
   ]
  },
  {
   "cell_type": "code",
   "execution_count": null,
   "metadata": {},
   "outputs": [],
   "source": []
  },
  {
   "cell_type": "code",
   "execution_count": null,
   "metadata": {},
   "outputs": [],
   "source": [
    "geom_name"
   ]
  },
  {
   "cell_type": "code",
   "execution_count": null,
   "metadata": {},
   "outputs": [],
   "source": [
    "%timeit geom_df = read_solenoid_geom_combined(geom_name)"
   ]
  },
  {
   "cell_type": "code",
   "execution_count": null,
   "metadata": {},
   "outputs": [],
   "source": [
    "geom_df = read_solenoid_geom_combined(geom_name, delimiter=\"\\t\")"
   ]
  },
  {
   "cell_type": "code",
   "execution_count": null,
   "metadata": {
    "scrolled": true
   },
   "outputs": [],
   "source": [
    "geom_df"
   ]
  },
  {
   "cell_type": "code",
   "execution_count": null,
   "metadata": {},
   "outputs": [],
   "source": [
    "geom_df.phi0,geom_df.phi1"
   ]
  },
  {
   "cell_type": "code",
   "execution_count": null,
   "metadata": {},
   "outputs": [],
   "source": [
    "geom_df.t_ci, geom_df.t_gi"
   ]
  },
  {
   "cell_type": "code",
   "execution_count": null,
   "metadata": {},
   "outputs": [],
   "source": [
    "geom_df.pitch, geom_df.w_cable"
   ]
  },
  {
   "cell_type": "code",
   "execution_count": null,
   "metadata": {},
   "outputs": [],
   "source": [
    "geom_df.iloc[0].I_turn, geom_df.iloc[0].j"
   ]
  },
  {
   "cell_type": "code",
   "execution_count": null,
   "metadata": {},
   "outputs": [],
   "source": [
    "geom_df.N_turns"
   ]
  },
  {
   "cell_type": "code",
   "execution_count": null,
   "metadata": {},
   "outputs": [],
   "source": [
    "geom_df.helicity"
   ]
  },
  {
   "cell_type": "code",
   "execution_count": null,
   "metadata": {},
   "outputs": [],
   "source": [
    "geom_df.L"
   ]
  },
  {
   "cell_type": "code",
   "execution_count": null,
   "metadata": {},
   "outputs": [],
   "source": []
  },
  {
   "cell_type": "code",
   "execution_count": null,
   "metadata": {},
   "outputs": [],
   "source": []
  },
  {
   "cell_type": "code",
   "execution_count": null,
   "metadata": {},
   "outputs": [],
   "source": [
    "geom_df.iloc[0]"
   ]
  },
  {
   "cell_type": "code",
   "execution_count": null,
   "metadata": {},
   "outputs": [],
   "source": []
  },
  {
   "cell_type": "code",
   "execution_count": null,
   "metadata": {},
   "outputs": [],
   "source": [
    "def rx(rho, phi, x):\n",
    "    return x - rho*np.cos(phi)\n",
    "def ry(rho, phi, hel, y):\n",
    "    return y - hel*rho*np.sin(phi)\n",
    "def rz(zeta, phi, pitch, L, z):\n",
    "    return z - (zeta + phi * pitch/(2*np.pi) - L/2) "
   ]
  },
  {
   "cell_type": "code",
   "execution_count": null,
   "metadata": {},
   "outputs": [],
   "source": [
    "def r2(x, y, z, rho, zeta, phi, hel, pitch, L):\n",
    "    return (rx(rho, phi, x)**2 + ry(rho, phi, hel, y)**2 + rz(zeta, phi, pitch, L, z)**2)"
   ]
  },
  {
   "cell_type": "code",
   "execution_count": null,
   "metadata": {},
   "outputs": [],
   "source": [
    "%time r2(0, 0, 0, *geom_df[['rho0_a', 'zeta0', 'phi_i', 'helicity', 'pitch', 'L']].iloc[0])"
   ]
  },
  {
   "cell_type": "code",
   "execution_count": null,
   "metadata": {},
   "outputs": [],
   "source": [
    "r2(0, 0, 0, *geom_df[['rho0_a', 'zeta0', 'phi_i', 'helicity', 'pitch', 'L']].iloc[0])**(1/2)"
   ]
  },
  {
   "cell_type": "code",
   "execution_count": null,
   "metadata": {},
   "outputs": [],
   "source": [
    "(9.2 / 2)**2 + geom_df.Ri.iloc[0]**2"
   ]
  },
  {
   "cell_type": "code",
   "execution_count": null,
   "metadata": {},
   "outputs": [],
   "source": [
    "((9.2 / 2)**2 + geom_df.Ri.iloc[0]**2)**(1/2)"
   ]
  },
  {
   "cell_type": "code",
   "execution_count": 25,
   "metadata": {},
   "outputs": [],
   "source": [
    "#%%file ../helicalc/coil.py\n",
    "def rx(rho, COSPHI, x):\n",
    "    return x - rho*COSPHI\n",
    "def ry(rho, SINPHI, hel, y):\n",
    "    return y - hel*rho*SINPHI\n",
    "def rz(zeta, phi, pitch, L, z):\n",
    "    return z - (zeta + phi * pitch/(2*np.pi) - L/2) "
   ]
  },
  {
   "cell_type": "code",
   "execution_count": 27,
   "metadata": {},
   "outputs": [],
   "source": [
    "#%%writefile -a ../helicalc/coil.py\n",
    "#\n",
    "def helix_integrand_Bx(RX, RY, RZ, R2_32, rho, COSPHI, SINPHI, hel, pitch, L):\n",
    "    return (rho * COSPHI * RZ - hel * pitch/(2*np.pi) * RY) / R2_32\n",
    "def helix_integrand_By(RX, RY, RZ, R2_32, rho, COSPHI, SINPHI, hel, pitch, L):\n",
    "    return (hel * rho * SINPHI * RZ + hel* pitch/(2*np.pi) *RX) / R2_32\n",
    "def helix_integrand_Bz(RX, RY, RZ, R2_32, rho, COSPHI, SINPHI, hel, pitch, L):\n",
    "    return (-hel * rho * SINPHI * RY - rho * COSPHI * RX) / R2_32"
   ]
  },
  {
   "cell_type": "code",
   "execution_count": null,
   "metadata": {},
   "outputs": [],
   "source": [
    "# coarse steps (quick)\n",
    "'''\n",
    "rh_step = (geom_df.rho1_a-geom_df.rho0_a).iloc[0]/3\n",
    "z_step = (geom_df.zeta1-geom_df.zeta0).iloc[0]/3\n",
    "phi_step = (geom_df.phi_f-geom_df.phi_i).iloc[0]/46000# 4600 # 46000\n",
    "'''\n",
    "# fine steps (slower)\n",
    "rh_step = (geom_df.rho1_a-geom_df.rho0_a).iloc[0]/7\n",
    "z_step = (geom_df.zeta1-geom_df.zeta0).iloc[0]/3\n",
    "phi_step = (geom_df.phi_f-geom_df.phi_i).iloc[0]/1000000# 4600 # 46000"
   ]
  },
  {
   "cell_type": "code",
   "execution_count": null,
   "metadata": {},
   "outputs": [],
   "source": [
    "dxyz = [rh_step, z_step, phi_step]"
   ]
  },
  {
   "cell_type": "code",
   "execution_count": null,
   "metadata": {},
   "outputs": [],
   "source": [
    "dxyz"
   ]
  },
  {
   "cell_type": "code",
   "execution_count": null,
   "metadata": {},
   "outputs": [],
   "source": [
    "rh_step, z_step, phi_step"
   ]
  },
  {
   "cell_type": "markdown",
   "metadata": {},
   "source": [
    "- Now just set up integrator object! (Hopefully quick with caching.)"
   ]
  },
  {
   "cell_type": "code",
   "execution_count": 29,
   "metadata": {},
   "outputs": [],
   "source": [
    "#%%writefile -a ../helicalc/coil.py\n",
    "#\n",
    "class CoilIntegrator(object):\n",
    "    def __init__(self, geom_coil, dxyz, int_func=tc.trapz, lib=tc, dev=0):\n",
    "        # x, y, z --> rho, zeta, phi\n",
    "        tc.cuda.set_device(dev)\n",
    "        rho_lims = [geom_coil.rho0_a, geom_coil.rho1_a]\n",
    "        zeta_lims = [geom_coil.zeta0, geom_coil.zeta1]\n",
    "        phi_lims = [geom_coil.phi_i, geom_coil.phi_f]\n",
    "        xyz_lims = [rho_lims, zeta_lims, phi_lims]\n",
    "        self.rhos = lib.linspace(xyz_lims[0][0], xyz_lims[0][1], abs(int((xyz_lims[0][1]-xyz_lims[0][0])/dxyz[0] + 1))).cuda()\n",
    "        self.zetas = lib.linspace(xyz_lims[1][0], xyz_lims[1][1], abs(int((xyz_lims[1][1]-xyz_lims[1][0])/dxyz[1] + 1))).cuda()\n",
    "        self.phis = lib.linspace(xyz_lims[2][0], xyz_lims[2][1], abs(int((xyz_lims[2][1]-xyz_lims[2][0])/dxyz[2] + 1))).cuda()\n",
    "        self.RHO, self.ZETA, self.PHI = lib.meshgrid(self.rhos,self.zetas,self.phis)\n",
    "        self.SINPHI = lib.sin(self.PHI)\n",
    "        self.COSPHI = lib.cos(self.PHI)\n",
    "        self.geom_coil = geom_coil\n",
    "        self.int_func = int_func\n",
    "        self.lib = lib\n",
    "        self.dev = dev\n",
    "        self.XYZ_rot = geom_coil[[f'rot{i:d}' for i in [0,1,2]]].values\n",
    "        self.XYZ_rot_rad = np.radians(self.XYZ_rot)\n",
    "        self.mu2e_to_coil = Rotation.from_euler('XYZ', -self.XYZ_rot_rad)\n",
    "        self.coil_to_mu2e = self.mu2e_to_coil.inv()\n",
    "        self.xc, self.yc, self.zc = geom_coil[['x','y','z']].values\n",
    "        lr = len(self.rhos)\n",
    "        lz = len(self.zetas)\n",
    "        lp = len(self.phis)\n",
    "        self.est_mem_init_mb = (2*(lr + lz + lp) + 2*(lr*lz*lp))*1e-5\n",
    "        self.est_mem_run_mb = (2*(lr + lz + lp) + 7*(lr*lz*lp))*1e-5\n",
    "    \n",
    "    def integrate(self, x0=0, y0=0, z0=0):\n",
    "        # rotate based on geom\n",
    "        #x0, y0, z0 = transform_field_point(x0,y0,z0)\n",
    "        # rotate/translate\n",
    "        x0, y0, z0 = self.mu2e_to_coil.apply(np.array([x0-self.xc, y0-self.yc, z0-self.zc]))\n",
    "        # calculate repeated calculations\n",
    "        RX = rx(self.RHO, self.COSPHI, x0)\n",
    "        RY = ry(self.RHO, self.SINPHI, self.geom_coil.helicity, y0)\n",
    "        RZ = rz(self.ZETA, self.PHI, self.geom_coil.pitch, self.geom_coil.L, z0)\n",
    "        R2_32 = (RX**2+RY**2+RZ**2)**(3/2)\n",
    "        result = []\n",
    "        # int_func must have params (x, y, z, x0, y0, z0)\n",
    "        for integrand_func in [helix_integrand_Bx, helix_integrand_By, helix_integrand_Bz]:\n",
    "            integrand_xyz = self.geom_coil.mu_fac * integrand_func(RX, RY, RZ, R2_32, self.RHO, self.COSPHI,\n",
    "                                                                   self.SINPHI, self.geom_coil.helicity,\n",
    "                                                                   self.geom_coil.pitch, self.geom_coil.L)\n",
    "            result.append(trapz_3d(self.rhos, self.zetas, self.phis, integrand_xyz, self.int_func).item())\n",
    "        B_vec = np.array(result)\n",
    "        # rotate vector back to mu2e coordinates\n",
    "        B_vec_rot = self.coil_to_mu2e.apply(B_vec)\n",
    "        self.last_result = B_vec_rot\n",
    "        return self.last_result, B_vec"
   ]
  },
  {
   "cell_type": "code",
   "execution_count": null,
   "metadata": {},
   "outputs": [],
   "source": [
    "3*285*(2*np.pi*850) / 1e3 / 5e-2 # m (in phi), PS Coil #1"
   ]
  },
  {
   "cell_type": "code",
   "execution_count": null,
   "metadata": {},
   "outputs": [],
   "source": [
    "43*8*(2*np.pi*465) / 1e3 / 5e-2 # m (in phi), TS3 Coil #28"
   ]
  },
  {
   "cell_type": "code",
   "execution_count": null,
   "metadata": {},
   "outputs": [],
   "source": [
    "1*244*(2*np.pi*1050) / 1e3  / 5e-2# m (in phi), DS Coil #63-65"
   ]
  },
  {
   "cell_type": "code",
   "execution_count": null,
   "metadata": {},
   "outputs": [],
   "source": [
    "phi_step * 1050"
   ]
  },
  {
   "cell_type": "code",
   "execution_count": null,
   "metadata": {},
   "outputs": [],
   "source": [
    "rh_step*1e3, z_step*1e3"
   ]
  },
  {
   "cell_type": "code",
   "execution_count": null,
   "metadata": {},
   "outputs": [],
   "source": [
    "(geom_df.rho1_a-geom_df.rho0_a)"
   ]
  },
  {
   "cell_type": "code",
   "execution_count": 30,
   "metadata": {},
   "outputs": [
    {
     "ename": "NameError",
     "evalue": "name 'rh_step' is not defined",
     "output_type": "error",
     "traceback": [
      "\u001b[0;31m---------------------------------------------------------------------------\u001b[0m",
      "\u001b[0;31mNameError\u001b[0m                                 Traceback (most recent call last)",
      "\u001b[0;32m<ipython-input-30-740ff87717a5>\u001b[0m in \u001b[0;36m<module>\u001b[0;34m\u001b[0m\n\u001b[0;32m----> 1\u001b[0;31m \u001b[0mrh_step\u001b[0m\u001b[0;34m\u001b[0m\u001b[0;34m\u001b[0m\u001b[0m\n\u001b[0m",
      "\u001b[0;31mNameError\u001b[0m: name 'rh_step' is not defined"
     ]
    }
   ],
   "source": [
    "rh_step"
   ]
  },
  {
   "cell_type": "code",
   "execution_count": null,
   "metadata": {},
   "outputs": [],
   "source": [
    "geom_name"
   ]
  },
  {
   "cell_type": "code",
   "execution_count": null,
   "metadata": {},
   "outputs": [],
   "source": [
    "geom_name = 'DS_V13_adjusted'\n",
    "#geom_name = 'DS_V13'\n",
    "#geom_name = 'r1m_p10cm'"
   ]
  },
  {
   "cell_type": "code",
   "execution_count": null,
   "metadata": {},
   "outputs": [],
   "source": [
    "geom_df = read_solenoid_geom_combined(geom_name)"
   ]
  },
  {
   "cell_type": "code",
   "execution_count": null,
   "metadata": {},
   "outputs": [],
   "source": [
    "geom_df"
   ]
  },
  {
   "cell_type": "code",
   "execution_count": null,
   "metadata": {},
   "outputs": [],
   "source": [
    "geom_df.N_turns"
   ]
  },
  {
   "cell_type": "code",
   "execution_count": null,
   "metadata": {},
   "outputs": [],
   "source": [
    "#for col in geom_df.columns:\n",
    "#    print(col, geom_df[col].iloc[0])"
   ]
  },
  {
   "cell_type": "code",
   "execution_count": null,
   "metadata": {},
   "outputs": [],
   "source": [
    "MyCoilIntegrator = CoilIntegrator(geom_df.iloc[0], dxyz)"
   ]
  },
  {
   "cell_type": "code",
   "execution_count": null,
   "metadata": {},
   "outputs": [],
   "source": [
    "MyCoilIntegrator.integrate()"
   ]
  },
  {
   "cell_type": "code",
   "execution_count": null,
   "metadata": {},
   "outputs": [],
   "source": [
    "%time MyCoilIntegrator.integrate(0.,0.,.025)"
   ]
  },
  {
   "cell_type": "code",
   "execution_count": null,
   "metadata": {},
   "outputs": [],
   "source": [
    "Bx, By, Bz = MyCoilIntegrator.integrate(0.,0.,.025)"
   ]
  },
  {
   "cell_type": "code",
   "execution_count": null,
   "metadata": {},
   "outputs": [],
   "source": [
    "%time Bx.item(), By.item(), Bz.item()"
   ]
  },
  {
   "cell_type": "code",
   "execution_count": null,
   "metadata": {},
   "outputs": [],
   "source": [
    "del(MyCoilIntegrator)\n",
    "tc.cuda.empty_cache()"
   ]
  },
  {
   "cell_type": "code",
   "execution_count": null,
   "metadata": {},
   "outputs": [],
   "source": []
  },
  {
   "cell_type": "code",
   "execution_count": null,
   "metadata": {},
   "outputs": [],
   "source": []
  },
  {
   "cell_type": "markdown",
   "metadata": {},
   "source": [
    "# Rotations"
   ]
  },
  {
   "cell_type": "code",
   "execution_count": null,
   "metadata": {},
   "outputs": [],
   "source": [
    "pos_c = np.array([0., 0., 0.]) # some TS centered in x\n",
    "pos = np.array([-3896., 0, 8.0]) # around the start of the tracker field point"
   ]
  },
  {
   "cell_type": "code",
   "execution_count": null,
   "metadata": {},
   "outputs": [],
   "source": [
    "#XYZ_rot = geom_df[[f'rot{i:d}' for i in [0,1,2]]].values\n",
    "XYZ_rot = np.array([0, -90.0, 0])\n",
    "XYZ_rot_rad = np.radians(XYZ_rot)"
   ]
  },
  {
   "cell_type": "code",
   "execution_count": null,
   "metadata": {},
   "outputs": [],
   "source": [
    "XYZ_rot, XYZ_rot_rad"
   ]
  },
  {
   "cell_type": "code",
   "execution_count": null,
   "metadata": {},
   "outputs": [],
   "source": [
    "# rot 0, 1, 2 = pitch, yaw, roll (== rotation about x axis, y axis, z axis)"
   ]
  },
  {
   "cell_type": "code",
   "execution_count": null,
   "metadata": {},
   "outputs": [],
   "source": [
    "# capital letters for intrinsic rotation, lowercase for extrinsic rotation"
   ]
  },
  {
   "cell_type": "code",
   "execution_count": null,
   "metadata": {},
   "outputs": [],
   "source": [
    "rot_func = Rotation.from_euler('XYZ', -XYZ_rot_rad)"
   ]
  },
  {
   "cell_type": "code",
   "execution_count": null,
   "metadata": {},
   "outputs": [],
   "source": [
    "inv_rot_func = rot_func.inv()"
   ]
  },
  {
   "cell_type": "code",
   "execution_count": null,
   "metadata": {},
   "outputs": [],
   "source": [
    "inv_rot_func.apply(pos-pos_c)"
   ]
  },
  {
   "cell_type": "code",
   "execution_count": null,
   "metadata": {},
   "outputs": [],
   "source": [
    "rot_func.apply(pos-pos_c)"
   ]
  },
  {
   "cell_type": "markdown",
   "metadata": {},
   "source": [
    "- So looks like we should use inverse rotation function to find field point in solenoid's coordinates.\n",
    "    - Or (-1*angles) for rotating into coil frame, (1*angles) for rotating back to mu2e frame\n",
    "- Now suppose we get a Bfield vector in the rotated frame, we must rotate back to original frame, and this is our answer!"
   ]
  },
  {
   "cell_type": "code",
   "execution_count": null,
   "metadata": {},
   "outputs": [],
   "source": [
    "B_vec = np.array([0, 0, 1])"
   ]
  },
  {
   "cell_type": "code",
   "execution_count": null,
   "metadata": {},
   "outputs": [],
   "source": [
    "B_vec_mu2e = inv_rot_func.apply(B_vec)"
   ]
  },
  {
   "cell_type": "code",
   "execution_count": null,
   "metadata": {},
   "outputs": [],
   "source": [
    "B_vec_mu2e"
   ]
  },
  {
   "cell_type": "markdown",
   "metadata": {},
   "source": [
    "# Memory Usage"
   ]
  },
  {
   "cell_type": "markdown",
   "metadata": {},
   "source": [
    "- From https://discuss.pytorch.org/t/access-gpu-memory-usage-in-pytorch/3192/4"
   ]
  },
  {
   "cell_type": "code",
   "execution_count": null,
   "metadata": {},
   "outputs": [],
   "source": [
    "import subprocess\n",
    "\n",
    "def get_gpu_memory_map():\n",
    "    \"\"\"Get the current gpu usage.\n",
    "\n",
    "    Returns\n",
    "    -------\n",
    "    usage: dict\n",
    "        Keys are device ids as integers.\n",
    "        Values are memory usage as integers in MB.\n",
    "    \"\"\"\n",
    "    result = subprocess.check_output(\n",
    "        [\n",
    "            'nvidia-smi', '--query-gpu=memory.used',\n",
    "            '--format=csv,nounits,noheader'\n",
    "        ], encoding='utf-8')\n",
    "    # Convert lines into a dictionary\n",
    "    gpu_memory = [int(x) for x in result.strip().split('\\n')]\n",
    "    gpu_memory_map = dict(zip(range(len(gpu_memory)), gpu_memory))\n",
    "    return gpu_memory_map"
   ]
  },
  {
   "cell_type": "code",
   "execution_count": null,
   "metadata": {},
   "outputs": [],
   "source": [
    "get_gpu_memory_map()"
   ]
  },
  {
   "cell_type": "code",
   "execution_count": null,
   "metadata": {},
   "outputs": [],
   "source": [
    "get_gpu_memory_map()[1]"
   ]
  },
  {
   "cell_type": "code",
   "execution_count": null,
   "metadata": {},
   "outputs": [],
   "source": [
    "import torch as tc"
   ]
  },
  {
   "cell_type": "code",
   "execution_count": null,
   "metadata": {},
   "outputs": [],
   "source": [
    "import tracemalloc"
   ]
  },
  {
   "cell_type": "code",
   "execution_count": null,
   "metadata": {},
   "outputs": [],
   "source": [
    "tracemalloc.start()"
   ]
  },
  {
   "cell_type": "code",
   "execution_count": null,
   "metadata": {},
   "outputs": [],
   "source": [
    "dev = 0"
   ]
  },
  {
   "cell_type": "code",
   "execution_count": null,
   "metadata": {},
   "outputs": [],
   "source": [
    "tc.cuda.set_device(dev)"
   ]
  },
  {
   "cell_type": "code",
   "execution_count": null,
   "metadata": {},
   "outputs": [],
   "source": [
    "for obj in ['rhos', 'zetas', 'phis', 'RHO', 'ZETA', 'PHI', 'SINPHI', 'COSPHI', 'container']:\n",
    "    try:\n",
    "        exec(f'del({obj})')\n",
    "    except:\n",
    "        pass"
   ]
  },
  {
   "cell_type": "code",
   "execution_count": null,
   "metadata": {},
   "outputs": [],
   "source": [
    "tc.cuda.empty_cache()"
   ]
  },
  {
   "cell_type": "code",
   "execution_count": null,
   "metadata": {},
   "outputs": [],
   "source": [
    "mems = [get_gpu_memory_map()[dev]]"
   ]
  },
  {
   "cell_type": "code",
   "execution_count": null,
   "metadata": {},
   "outputs": [],
   "source": [
    "gd = geom_df.iloc[0]\n",
    "rho_lims = [gd.rho0_a, gd.rho1_a]\n",
    "zeta_lims = [gd.zeta0, gd.zeta1]\n",
    "phi_lims = [gd.phi_i, gd.phi_f]\n",
    "xyz_lims = [rho_lims, zeta_lims, phi_lims]\n",
    "rhos = tc.linspace(xyz_lims[0][0], xyz_lims[0][1], abs(int((xyz_lims[0][1]-xyz_lims[0][0])/dxyz[0] + 1))).cuda()\n",
    "mems.append(get_gpu_memory_map()[dev])\n",
    "zetas = tc.linspace(xyz_lims[1][0], xyz_lims[1][1], abs(int((xyz_lims[1][1]-xyz_lims[1][0])/dxyz[1] + 1))).cuda()\n",
    "mems.append(get_gpu_memory_map()[dev])\n",
    "phis = tc.linspace(xyz_lims[2][0], xyz_lims[2][1], abs(int((xyz_lims[2][1]-xyz_lims[2][0])/dxyz[2] + 1))).cuda()\n",
    "mems.append(get_gpu_memory_map()[dev])\n",
    "RHO, ZETA, PHI = tc.meshgrid(rhos,zetas,phis)\n",
    "mems.append(get_gpu_memory_map()[dev])\n",
    "SINPHI = tc.sin(PHI)\n",
    "mems.append(get_gpu_memory_map()[dev])\n",
    "COSPHI = tc.cos(PHI)\n",
    "mems.append(get_gpu_memory_map()[dev])"
   ]
  },
  {
   "cell_type": "code",
   "execution_count": null,
   "metadata": {},
   "outputs": [],
   "source": [
    "mems"
   ]
  },
  {
   "cell_type": "code",
   "execution_count": null,
   "metadata": {},
   "outputs": [],
   "source": [
    "mem_per = 0.001 # mb / item"
   ]
  },
  {
   "cell_type": "code",
   "execution_count": null,
   "metadata": {},
   "outputs": [],
   "source": [
    "(len(rhos) + len(zetas) + len(phis) + (3 + 2 + 4 + 1)*len(rhos)*len(zetas)*len(phis)) * mem_per / 1000 # GB memory"
   ]
  },
  {
   "cell_type": "code",
   "execution_count": null,
   "metadata": {},
   "outputs": [],
   "source": [
    "sys.getsizeof(SINPHI.storage()) * 1e-6"
   ]
  },
  {
   "cell_type": "code",
   "execution_count": null,
   "metadata": {},
   "outputs": [],
   "source": [
    "128 * 10"
   ]
  },
  {
   "cell_type": "code",
   "execution_count": null,
   "metadata": {},
   "outputs": [],
   "source": [
    "sys.getsizeof(rhos.storage()) * 1e-6, \\\n",
    "sys.getsizeof(zetas.storage()) * 1e-6, \\\n",
    "sys.getsizeof(phis.storage()) * 1e-6"
   ]
  },
  {
   "cell_type": "code",
   "execution_count": null,
   "metadata": {},
   "outputs": [],
   "source": [
    "sys.getsizeof(rhos.storage()) * 1e-6 / len(rhos),\\\n",
    "sys.getsizeof(zetas.storage()) * 1e-6 / len(zetas),\\\n",
    "sys.getsizeof(phis.storage()) * 1e-6 / len(phis)"
   ]
  },
  {
   "cell_type": "code",
   "execution_count": null,
   "metadata": {},
   "outputs": [],
   "source": [
    "container = [rhos, zetas, phis, RHO, ZETA, PHI, SINPHI, COSPHI]"
   ]
  },
  {
   "cell_type": "code",
   "execution_count": null,
   "metadata": {},
   "outputs": [],
   "source": [
    "total_st = np.array([sys.getsizeof(i.storage())*1e-6 for i in container])"
   ]
  },
  {
   "cell_type": "code",
   "execution_count": null,
   "metadata": {},
   "outputs": [],
   "source": [
    "total_st"
   ]
  },
  {
   "cell_type": "code",
   "execution_count": null,
   "metadata": {},
   "outputs": [],
   "source": []
  },
  {
   "cell_type": "code",
   "execution_count": null,
   "metadata": {},
   "outputs": [],
   "source": [
    "np.sum(total_st) * 1e-2"
   ]
  },
  {
   "cell_type": "code",
   "execution_count": null,
   "metadata": {},
   "outputs": [],
   "source": [
    "total_st_per = np.array([sys.getsizeof(i.storage())/i.numel() * 1e-6 for i in container])"
   ]
  },
  {
   "cell_type": "code",
   "execution_count": null,
   "metadata": {},
   "outputs": [],
   "source": [
    "total_st_per"
   ]
  },
  {
   "cell_type": "code",
   "execution_count": null,
   "metadata": {},
   "outputs": [],
   "source": [
    "RHO.numel()"
   ]
  },
  {
   "cell_type": "code",
   "execution_count": null,
   "metadata": {},
   "outputs": [],
   "source": [
    "mem_per = 1e-5"
   ]
  },
  {
   "cell_type": "code",
   "execution_count": null,
   "metadata": {},
   "outputs": [],
   "source": [
    "(len(rhos) + len(zetas) + len(phis) + (3 + 2 + 4 + 1)*len(rhos)*len(zetas)*len(phis)) * mem_per / 1000 # GB memory"
   ]
  },
  {
   "cell_type": "code",
   "execution_count": null,
   "metadata": {},
   "outputs": [],
   "source": [
    "snapshot = tracemalloc.take_snapshot()"
   ]
  },
  {
   "cell_type": "code",
   "execution_count": null,
   "metadata": {},
   "outputs": [],
   "source": [
    "top_stats = snapshot.statistics('lineno')"
   ]
  },
  {
   "cell_type": "code",
   "execution_count": null,
   "metadata": {},
   "outputs": [],
   "source": [
    "for ts in top_stats[:10]:\n",
    "    print(ts)"
   ]
  },
  {
   "cell_type": "code",
   "execution_count": null,
   "metadata": {},
   "outputs": [],
   "source": [
    "1019-731, 1153-1019"
   ]
  },
  {
   "cell_type": "code",
   "execution_count": null,
   "metadata": {},
   "outputs": [],
   "source": [
    "get_gpu_memory_map()[1]"
   ]
  },
  {
   "cell_type": "markdown",
   "metadata": {},
   "source": [
    "# Memory Profiler"
   ]
  },
  {
   "cell_type": "code",
   "execution_count": null,
   "metadata": {},
   "outputs": [],
   "source": [
    "def gpu_load(geom_coil, dxyz , dev=0):\n",
    "    # set device\n",
    "    tc.cuda.set_device(dev)\n",
    "    # x, y, z --> rho, zeta, phi\n",
    "    rho_lims = [geom_coil.rho0_a, geom_coil.rho1_a]\n",
    "    zeta_lims = [geom_coil.zeta0, geom_coil.zeta1]\n",
    "    phi_lims = [geom_coil.phi_i, geom_coil.phi_f]\n",
    "    xyz_lims = [rho_lims, zeta_lims, phi_lims]\n",
    "    rhos = tc.linspace(xyz_lims[0][0], xyz_lims[0][1], abs(int((xyz_lims[0][1]-xyz_lims[0][0])/dxyz[0] + 1))).cuda()\n",
    "    zetas = tc.linspace(xyz_lims[1][0], xyz_lims[1][1], abs(int((xyz_lims[1][1]-xyz_lims[1][0])/dxyz[1] + 1))).cuda()\n",
    "    phis = tc.linspace(xyz_lims[2][0], xyz_lims[2][1], abs(int((xyz_lims[2][1]-xyz_lims[2][0])/dxyz[2] + 1))).cuda()\n",
    "    RHO, ZETA, PHI = tc.meshgrid(rhos,zetas,phis)\n",
    "    SINPHI = tc.sin(PHI)\n",
    "    COSPHI = tc.cos(PHI)\n",
    "    #geom_coil = geom_coil\n",
    "    #int_func = int_func\n",
    "    #lib = lib\n",
    "    #dev = dev\n",
    "    XYZ_rot = geom_coil[[f'rot{i:d}' for i in [0,1,2]]].values\n",
    "    XYZ_rot_rad = np.radians(XYZ_rot)\n",
    "    mu2e_to_coil = Rotation.from_euler('XYZ', -XYZ_rot_rad)\n",
    "    coil_to_mu2e = mu2e_to_coil.inv()\n",
    "    xc, yc, zc = geom_coil[['x','y','z']].values\n",
    "    #integrand_func = get_int_func(X,Y,Z, int_func)\n",
    "    \n",
    "    x0=0\n",
    "    y0=0\n",
    "    z0=0\n",
    "    # rotate based on geom\n",
    "    #x0, y0, z0 = transform_field_point(x0,y0,z0)\n",
    "    # rotate/translate\n",
    "    x0, y0, z0 = mu2e_to_coil.apply(np.array([x0-xc, y0-yc, z0-zc]))\n",
    "    # calculate repeated calculations\n",
    "    RX = rx(RHO, COSPHI, x0)\n",
    "    RY = ry(RHO, SINPHI, geom_coil.helicity, y0)\n",
    "    RZ = rz(ZETA, PHI, geom_coil.pitch, geom_coil.L, z0)\n",
    "    R2_32 = (RX**2+RY**2+RZ**2)**(3/2)\n",
    "    result = []\n",
    "    # int_func must have params (x, y, z, x0, y0, z0)\n",
    "    for integrand_func in [helix_integrand_Bx, helix_integrand_By, helix_integrand_Bz]:\n",
    "        integrand_xyz = geom_coil.mu_fac * integrand_func(RX, RY, RZ, R2_32, RHO, COSPHI,\n",
    "                                                               SINPHI, geom_coil.helicity,\n",
    "                                                               geom_coil.pitch, geom_coil.L)\n",
    "        result.append(trapz_3d(rhos, zetas, phis, integrand_xyz, tc.trapz).item())\n",
    "    B_vec = np.array(result)\n",
    "    # rotate vector back to mu2e coordinates\n",
    "    B_vec_rot = coil_to_mu2e.apply(B_vec)\n",
    "    last_result = B_vec_rot\n",
    "    return last_result, B_vec"
   ]
  },
  {
   "cell_type": "code",
   "execution_count": null,
   "metadata": {},
   "outputs": [],
   "source": [
    "%%file gpu_load.py\n",
    "import torch as tc\n",
    "\n",
    "def gpu_load(geom_coil, dxyz , dev=0):\n",
    "    # set device\n",
    "    tc.cuda.set_device(dev)\n",
    "    # x, y, z --> rho, zeta, phi\n",
    "    rho_lims = [geom_coil.rho0_a, geom_coil.rho1_a]\n",
    "    zeta_lims = [geom_coil.zeta0, geom_coil.zeta1]\n",
    "    phi_lims = [geom_coil.phi_i, geom_coil.phi_f]\n",
    "    xyz_lims = [rho_lims, zeta_lims, phi_lims]\n",
    "    rhos = tc.linspace(xyz_lims[0][0], xyz_lims[0][1], abs(int((xyz_lims[0][1]-xyz_lims[0][0])/dxyz[0] + 1))).cuda()\n",
    "    zetas = tc.linspace(xyz_lims[1][0], xyz_lims[1][1], abs(int((xyz_lims[1][1]-xyz_lims[1][0])/dxyz[1] + 1))).cuda()\n",
    "    phis = tc.linspace(xyz_lims[2][0], xyz_lims[2][1], abs(int((xyz_lims[2][1]-xyz_lims[2][0])/dxyz[2] + 1))).cuda()\n",
    "    RHO, ZETA, PHI = tc.meshgrid(rhos,zetas,phis)\n",
    "    SINPHI = tc.sin(PHI)\n",
    "    COSPHI = tc.cos(PHI)\n",
    "    #geom_coil = geom_coil\n",
    "    #int_func = int_func\n",
    "    #lib = lib\n",
    "    #dev = dev\n",
    "    XYZ_rot = geom_coil[[f'rot{i:d}' for i in [0,1,2]]].values\n",
    "    XYZ_rot_rad = np.radians(XYZ_rot)\n",
    "    mu2e_to_coil = Rotation.from_euler('XYZ', -XYZ_rot_rad)\n",
    "    coil_to_mu2e = mu2e_to_coil.inv()\n",
    "    xc, yc, zc = geom_coil[['x','y','z']].values\n",
    "    #integrand_func = get_int_func(X,Y,Z, int_func)\n",
    "    \n",
    "    x0=0\n",
    "    y0=0\n",
    "    z0=0\n",
    "    # rotate based on geom\n",
    "    #x0, y0, z0 = transform_field_point(x0,y0,z0)\n",
    "    # rotate/translate\n",
    "    x0, y0, z0 = mu2e_to_coil.apply(np.array([x0-xc, y0-yc, z0-zc]))\n",
    "    # calculate repeated calculations\n",
    "    RX = rx(RHO, COSPHI, x0)\n",
    "    RY = ry(RHO, SINPHI, geom_coil.helicity, y0)\n",
    "    RZ = rz(ZETA, PHI, geom_coil.pitch, geom_coil.L, z0)\n",
    "    R2_32 = (RX**2+RY**2+RZ**2)**(3/2)\n",
    "    result = []\n",
    "    # int_func must have params (x, y, z, x0, y0, z0)\n",
    "    for integrand_func in [helix_integrand_Bx, helix_integrand_By, helix_integrand_Bz]:\n",
    "        integrand_xyz = geom_coil.mu_fac * integrand_func(RX, RY, RZ, R2_32, RHO, COSPHI,\n",
    "                                                               SINPHI, geom_coil.helicity,\n",
    "                                                               geom_coil.pitch, geom_coil.L)\n",
    "        result.append(trapz_3d(rhos, zetas, phis, integrand_xyz, tc.trapz).item())\n",
    "    B_vec = np.array(result)\n",
    "    # rotate vector back to mu2e coordinates\n",
    "    B_vec_rot = coil_to_mu2e.apply(B_vec)\n",
    "    last_result = B_vec_rot\n",
    "    return last_result, B_vec"
   ]
  },
  {
   "cell_type": "code",
   "execution_count": null,
   "metadata": {},
   "outputs": [],
   "source": [
    "#from gpu_load import gpu_load"
   ]
  },
  {
   "cell_type": "code",
   "execution_count": null,
   "metadata": {},
   "outputs": [],
   "source": [
    "%memit gpu_load(geom_df.iloc[0], dxyz, dev=0)"
   ]
  },
  {
   "cell_type": "code",
   "execution_count": null,
   "metadata": {},
   "outputs": [],
   "source": [
    "%mprun -f gpu_load gpu_load(geom_df.iloc[0], dxyz, dev=0)"
   ]
  },
  {
   "cell_type": "code",
   "execution_count": null,
   "metadata": {},
   "outputs": [],
   "source": [
    "import tracemalloc"
   ]
  },
  {
   "cell_type": "code",
   "execution_count": null,
   "metadata": {},
   "outputs": [],
   "source": [
    "tracemalloc.start()"
   ]
  },
  {
   "cell_type": "code",
   "execution_count": null,
   "metadata": {},
   "outputs": [],
   "source": []
  }
 ],
 "metadata": {
  "kernelspec": {
   "display_name": "Python [conda env:helicalc]",
   "language": "python",
   "name": "conda-env-helicalc-py"
  },
  "language_info": {
   "codemirror_mode": {
    "name": "ipython",
    "version": 3
   },
   "file_extension": ".py",
   "mimetype": "text/x-python",
   "name": "python",
   "nbconvert_exporter": "python",
   "pygments_lexer": "ipython3",
   "version": "3.8.4"
  }
 },
 "nbformat": 4,
 "nbformat_minor": 2
}
